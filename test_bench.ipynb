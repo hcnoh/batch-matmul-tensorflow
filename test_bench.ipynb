{
 "cells": [
  {
   "cell_type": "markdown",
   "metadata": {},
   "source": [
    "# Test Bench for Batch Matrix Multiplication of TensorFlow\n",
    "\n",
    "This Jupyter Notebook is for a test bench for my batch matrix multiplication of TensorFlow. This test bench includes two parts of test: First, A test for getting a result that this batch matrix multiplication works exactly will be performed. Second, A test for getting a result that this batch matrix multiplication provides brodcasting for matrix multiplication will be performed."
   ]
  },
  {
   "cell_type": "markdown",
   "metadata": {},
   "source": [
    "## Importing Libraries\n",
    "\n",
    "To do whole test bench process, we need two libraries: TensorFlow, and Numpy."
   ]
  },
  {
   "cell_type": "code",
   "execution_count": 1,
   "metadata": {},
   "outputs": [],
   "source": [
    "import tensorflow as tf\n",
    "import numpy as np"
   ]
  },
  {
   "cell_type": "markdown",
   "metadata": {},
   "source": [
    "## Importing Module\n",
    "\n",
    "The target module which is for the batch matrix multiplication of TensorFlow should be imported."
   ]
  },
  {
   "cell_type": "code",
   "execution_count": 2,
   "metadata": {},
   "outputs": [],
   "source": [
    "from custom_ops import tf_batch_matmul"
   ]
  },
  {
   "cell_type": "markdown",
   "metadata": {},
   "source": [
    "## Setting Hyperparameters\n",
    "\n",
    "The matrix shapes of two matrixes a,b and batch size should be determined."
   ]
  },
  {
   "cell_type": "code",
   "execution_count": 3,
   "metadata": {},
   "outputs": [],
   "source": [
    "a_shape = [7, 4]\n",
    "b_shape = [4, 9]\n",
    "\n",
    "assert a_shape[-1] == b_shape[0]\n",
    "\n",
    "batch_size = 32"
   ]
  },
  {
   "cell_type": "markdown",
   "metadata": {},
   "source": [
    "## Creating TF Graph"
   ]
  },
  {
   "cell_type": "code",
   "execution_count": 4,
   "metadata": {},
   "outputs": [],
   "source": [
    "a_tensor = tf.placeholder(dtype=tf.int32, shape=[None]+a_shape)\n",
    "b_tensor = tf.placeholder(dtype=tf.int32, shape=[None]+b_shape)\n",
    "\n",
    "c_tensor = tf_batch_matmul(a_tensor, b_tensor)\n",
    "\n",
    "sess = tf.Session()\n",
    "sess.run(tf.global_variables_initializer())"
   ]
  },
  {
   "cell_type": "markdown",
   "metadata": {},
   "source": [
    "## Part 1\n",
    "\n",
    "We will check the batch multiplication operator works exactly on this part."
   ]
  },
  {
   "cell_type": "code",
   "execution_count": 7,
   "metadata": {},
   "outputs": [
    {
     "name": "stdout",
     "output_type": "stream",
     "text": [
      "0 True\n",
      "1 True\n",
      "2 True\n",
      "3 True\n",
      "4 True\n",
      "5 True\n",
      "6 True\n",
      "7 True\n",
      "8 True\n",
      "9 True\n",
      "10 True\n",
      "11 True\n",
      "12 True\n",
      "13 True\n",
      "14 True\n",
      "15 True\n",
      "16 True\n",
      "17 True\n",
      "18 True\n",
      "19 True\n",
      "20 True\n",
      "21 True\n",
      "22 True\n",
      "23 True\n",
      "24 True\n",
      "25 True\n",
      "26 True\n",
      "27 True\n",
      "28 True\n",
      "29 True\n",
      "30 True\n",
      "31 True\n"
     ]
    }
   ],
   "source": [
    "a = np.random.randint(10, size=[batch_size]+a_shape)\n",
    "b = np.random.randint(10, size=[batch_size]+b_shape)\n",
    "\n",
    "c = sess.run(c_tensor, feed_dict={a_tensor: a, b_tensor: b})\n",
    "\n",
    "for i in range(batch_size):\n",
    "    a_i, b_i, c_i = a[i], b[i], c[i]\n",
    "    print(i, np.all(c_i == np.matmul(a_i, b_i)))"
   ]
  },
  {
   "cell_type": "markdown",
   "metadata": {},
   "source": [
    "## Part 2\n",
    "\n",
    "We will check the batch multiplication operator provides broadcasting on this part."
   ]
  },
  {
   "cell_type": "code",
   "execution_count": 8,
   "metadata": {},
   "outputs": [
    {
     "name": "stdout",
     "output_type": "stream",
     "text": [
      "0 True\n",
      "1 True\n",
      "2 True\n",
      "3 True\n",
      "4 True\n",
      "5 True\n",
      "6 True\n",
      "7 True\n",
      "8 True\n",
      "9 True\n",
      "10 True\n",
      "11 True\n",
      "12 True\n",
      "13 True\n",
      "14 True\n",
      "15 True\n",
      "16 True\n",
      "17 True\n",
      "18 True\n",
      "19 True\n",
      "20 True\n",
      "21 True\n",
      "22 True\n",
      "23 True\n",
      "24 True\n",
      "25 True\n",
      "26 True\n",
      "27 True\n",
      "28 True\n",
      "29 True\n",
      "30 True\n",
      "31 True\n"
     ]
    }
   ],
   "source": [
    "a = np.random.randint(10, size=[batch_size]+a_shape)\n",
    "b = np.random.randint(10, size=[1]+b_shape)\n",
    "\n",
    "c = sess.run(c_tensor, feed_dict={a_tensor: a, b_tensor: b})\n",
    "\n",
    "for i in range(batch_size):\n",
    "    a_i, c_i = a[i], c[i]\n",
    "    print(i, np.all(c_i == np.matmul(a_i, b)))"
   ]
  }
 ],
 "metadata": {
  "kernelspec": {
   "display_name": "Python 3",
   "language": "python",
   "name": "python3"
  },
  "language_info": {
   "codemirror_mode": {
    "name": "ipython",
    "version": 3
   },
   "file_extension": ".py",
   "mimetype": "text/x-python",
   "name": "python",
   "nbconvert_exporter": "python",
   "pygments_lexer": "ipython3",
   "version": "3.5.2"
  }
 },
 "nbformat": 4,
 "nbformat_minor": 2
}
